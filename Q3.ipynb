{
 "cells": [
  {
   "cell_type": "code",
   "execution_count": 3,
   "metadata": {},
   "outputs": [
    {
     "output_type": "stream",
     "name": "stdout",
     "text": "cos(x)**5/5 - cos(x)**3/3\n"
    }
   ],
   "source": [
    "import numpy as np #works with assigning range of numbers\n",
    "from sympy import * #works with functions\n",
    "x = Symbol('x')\n",
    "integral = integrate(sin(x)**3 * cos(x)**2)\n",
    "print (integral)"
   ]
  },
  {
   "cell_type": "code",
   "execution_count": 5,
   "metadata": {},
   "outputs": [
    {
     "output_type": "stream",
     "name": "stdout",
     "text": "32/3\n"
    }
   ],
   "source": [
    "import numpy as np #works with assigning range of numbers\n",
    "from sympy import * #works with functions\n",
    "x = Symbol('x')\n",
    "integral = integrate((3-x**2)**2 - (x**2+1)**2, (x,-1,1))\n",
    "print (integral)"
   ]
  },
  {
   "cell_type": "code",
   "execution_count": 7,
   "metadata": {},
   "outputs": [
    {
     "output_type": "stream",
     "name": "stdout",
     "text": "log(x) - log(x - 1) - 1/(x - 1)\n"
    }
   ],
   "source": [
    "import numpy as np #works with assigning range of numbers\n",
    "from sympy import * #works with functions\n",
    "x = Symbol('x')\n",
    "integral = integrate(1/(x**3-2*x**2+x))\n",
    "print (integral)"
   ]
  }
 ],
 "metadata": {
  "language_info": {
   "codemirror_mode": {
    "name": "ipython",
    "version": 3
   },
   "file_extension": ".py",
   "mimetype": "text/x-python",
   "name": "python",
   "nbconvert_exporter": "python",
   "pygments_lexer": "ipython3",
   "version": "3.8.1-final"
  },
  "orig_nbformat": 2,
  "kernelspec": {
   "name": "python38164bit381pyenv3164c9646b744e0f90fe0a7de9ffe36f",
   "display_name": "Python 3.8.1 64-bit ('3.8.1': pyenv)"
  }
 },
 "nbformat": 4,
 "nbformat_minor": 2
}